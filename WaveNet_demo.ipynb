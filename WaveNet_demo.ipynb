{
 "cells": [
  {
   "cell_type": "markdown",
   "metadata": {},
   "source": [
    "This is notebook gives a quick overview of this WaveNet implementation, i.e. creating the model and the data set, training the model and generating samples from it."
   ]
  },
  {
   "cell_type": "code",
   "execution_count": 1,
   "metadata": {
    "collapsed": true
   },
   "outputs": [],
   "source": [
    "import torch\n",
    "from wavenet_model import *\n",
    "from audio_data import WavenetDataset\n",
    "from wavenet_training import *\n",
    "from model_logging import *"
   ]
  },
  {
   "cell_type": "markdown",
   "metadata": {},
   "source": [
    "## Model\n",
    "This is an implementation of WaveNet as it was described in the original paper (https://arxiv.org/abs/1609.03499). Each layer looks like this:\n",
    "\n",
    "```\n",
    "            |----------------------------------------|      *residual*\n",
    "            |                                        |\n",
    "            |    |-- conv -- tanh --|                |\n",
    " -> dilate -|----|                  * ----|-- 1x1 -- + -->  *input*\n",
    "                 |-- conv -- sigm --|     |\n",
    "                                         1x1\n",
    "                                          |\n",
    " ---------------------------------------> + ------------->  *skip*\n",
    "```\n",
    "\n",
    "Each layer dilates the input by a factor of two. After each block the dilation is reset and start from one. You can define the number of layers in each block (``layers``) and the number of blocks (``blocks``). The blocks are followed by two 1x1 convolutions and a softmax output function.\n",
    "Because of the dilation operation, the independent output for multiple successive samples can be calculated efficiently. With ``output_length``, you can define the number these outputs. Empirically, it seems that a large number of skip channels is required."
   ]
  },
  {
   "cell_type": "code",
   "execution_count": 2,
   "metadata": {
    "collapsed": true
   },
   "outputs": [
    {
     "output_type": "stream",
     "name": "stdout",
     "text": [
      "use gpu\n"
     ]
    }
   ],
   "source": [
    "# initialize cuda option\n",
    "dtype = torch.FloatTensor # data type\n",
    "ltype = torch.LongTensor # label type\n",
    "\n",
    "use_cuda = torch.cuda.is_available()\n",
    "if use_cuda:\n",
    "    print('use gpu')\n",
    "    dtype = torch.cuda.FloatTensor\n",
    "    ltype = torch.cuda.LongTensor"
   ]
  },
  {
   "cell_type": "code",
   "execution_count": 3,
   "metadata": {
    "collapsed": false
   },
   "outputs": [
    {
     "output_type": "stream",
     "name": "stdout",
     "text": [
      "model:  WaveNetModel(\n  (filter_convs): ModuleList(\n    (0): Conv1d(32, 32, kernel_size=(2,), stride=(1,))\n    (1): Conv1d(32, 32, kernel_size=(2,), stride=(1,))\n    (2): Conv1d(32, 32, kernel_size=(2,), stride=(1,))\n    (3): Conv1d(32, 32, kernel_size=(2,), stride=(1,))\n    (4): Conv1d(32, 32, kernel_size=(2,), stride=(1,))\n    (5): Conv1d(32, 32, kernel_size=(2,), stride=(1,))\n    (6): Conv1d(32, 32, kernel_size=(2,), stride=(1,))\n    (7): Conv1d(32, 32, kernel_size=(2,), stride=(1,))\n    (8): Conv1d(32, 32, kernel_size=(2,), stride=(1,))\n    (9): Conv1d(32, 32, kernel_size=(2,), stride=(1,))\n    (10): Conv1d(32, 32, kernel_size=(2,), stride=(1,))\n    (11): Conv1d(32, 32, kernel_size=(2,), stride=(1,))\n    (12): Conv1d(32, 32, kernel_size=(2,), stride=(1,))\n    (13): Conv1d(32, 32, kernel_size=(2,), stride=(1,))\n    (14): Conv1d(32, 32, kernel_size=(2,), stride=(1,))\n    (15): Conv1d(32, 32, kernel_size=(2,), stride=(1,))\n    (16): Conv1d(32, 32, kernel_size=(2,), stride=(1,))\n    (17): Conv1d(32, 32, kernel_size=(2,), stride=(1,))\n    (18): Conv1d(32, 32, kernel_size=(2,), stride=(1,))\n    (19): Conv1d(32, 32, kernel_size=(2,), stride=(1,))\n    (20): Conv1d(32, 32, kernel_size=(2,), stride=(1,))\n    (21): Conv1d(32, 32, kernel_size=(2,), stride=(1,))\n    (22): Conv1d(32, 32, kernel_size=(2,), stride=(1,))\n    (23): Conv1d(32, 32, kernel_size=(2,), stride=(1,))\n    (24): Conv1d(32, 32, kernel_size=(2,), stride=(1,))\n    (25): Conv1d(32, 32, kernel_size=(2,), stride=(1,))\n    (26): Conv1d(32, 32, kernel_size=(2,), stride=(1,))\n    (27): Conv1d(32, 32, kernel_size=(2,), stride=(1,))\n    (28): Conv1d(32, 32, kernel_size=(2,), stride=(1,))\n    (29): Conv1d(32, 32, kernel_size=(2,), stride=(1,))\n  )\n  (gate_convs): ModuleList(\n    (0): Conv1d(32, 32, kernel_size=(2,), stride=(1,))\n    (1): Conv1d(32, 32, kernel_size=(2,), stride=(1,))\n    (2): Conv1d(32, 32, kernel_size=(2,), stride=(1,))\n    (3): Conv1d(32, 32, kernel_size=(2,), stride=(1,))\n    (4): Conv1d(32, 32, kernel_size=(2,), stride=(1,))\n    (5): Conv1d(32, 32, kernel_size=(2,), stride=(1,))\n    (6): Conv1d(32, 32, kernel_size=(2,), stride=(1,))\n    (7): Conv1d(32, 32, kernel_size=(2,), stride=(1,))\n    (8): Conv1d(32, 32, kernel_size=(2,), stride=(1,))\n    (9): Conv1d(32, 32, kernel_size=(2,), stride=(1,))\n    (10): Conv1d(32, 32, kernel_size=(2,), stride=(1,))\n    (11): Conv1d(32, 32, kernel_size=(2,), stride=(1,))\n    (12): Conv1d(32, 32, kernel_size=(2,), stride=(1,))\n    (13): Conv1d(32, 32, kernel_size=(2,), stride=(1,))\n    (14): Conv1d(32, 32, kernel_size=(2,), stride=(1,))\n    (15): Conv1d(32, 32, kernel_size=(2,), stride=(1,))\n    (16): Conv1d(32, 32, kernel_size=(2,), stride=(1,))\n    (17): Conv1d(32, 32, kernel_size=(2,), stride=(1,))\n    (18): Conv1d(32, 32, kernel_size=(2,), stride=(1,))\n    (19): Conv1d(32, 32, kernel_size=(2,), stride=(1,))\n    (20): Conv1d(32, 32, kernel_size=(2,), stride=(1,))\n    (21): Conv1d(32, 32, kernel_size=(2,), stride=(1,))\n    (22): Conv1d(32, 32, kernel_size=(2,), stride=(1,))\n    (23): Conv1d(32, 32, kernel_size=(2,), stride=(1,))\n    (24): Conv1d(32, 32, kernel_size=(2,), stride=(1,))\n    (25): Conv1d(32, 32, kernel_size=(2,), stride=(1,))\n    (26): Conv1d(32, 32, kernel_size=(2,), stride=(1,))\n    (27): Conv1d(32, 32, kernel_size=(2,), stride=(1,))\n    (28): Conv1d(32, 32, kernel_size=(2,), stride=(1,))\n    (29): Conv1d(32, 32, kernel_size=(2,), stride=(1,))\n  )\n  (residual_convs): ModuleList(\n    (0): Conv1d(32, 32, kernel_size=(1,), stride=(1,))\n    (1): Conv1d(32, 32, kernel_size=(1,), stride=(1,))\n    (2): Conv1d(32, 32, kernel_size=(1,), stride=(1,))\n    (3): Conv1d(32, 32, kernel_size=(1,), stride=(1,))\n    (4): Conv1d(32, 32, kernel_size=(1,), stride=(1,))\n    (5): Conv1d(32, 32, kernel_size=(1,), stride=(1,))\n    (6): Conv1d(32, 32, kernel_size=(1,), stride=(1,))\n    (7): Conv1d(32, 32, kernel_size=(1,), stride=(1,))\n    (8): Conv1d(32, 32, kernel_size=(1,), stride=(1,))\n    (9): Conv1d(32, 32, kernel_size=(1,), stride=(1,))\n    (10): Conv1d(32, 32, kernel_size=(1,), stride=(1,))\n    (11): Conv1d(32, 32, kernel_size=(1,), stride=(1,))\n    (12): Conv1d(32, 32, kernel_size=(1,), stride=(1,))\n    (13): Conv1d(32, 32, kernel_size=(1,), stride=(1,))\n    (14): Conv1d(32, 32, kernel_size=(1,), stride=(1,))\n    (15): Conv1d(32, 32, kernel_size=(1,), stride=(1,))\n    (16): Conv1d(32, 32, kernel_size=(1,), stride=(1,))\n    (17): Conv1d(32, 32, kernel_size=(1,), stride=(1,))\n    (18): Conv1d(32, 32, kernel_size=(1,), stride=(1,))\n    (19): Conv1d(32, 32, kernel_size=(1,), stride=(1,))\n    (20): Conv1d(32, 32, kernel_size=(1,), stride=(1,))\n    (21): Conv1d(32, 32, kernel_size=(1,), stride=(1,))\n    (22): Conv1d(32, 32, kernel_size=(1,), stride=(1,))\n    (23): Conv1d(32, 32, kernel_size=(1,), stride=(1,))\n    (24): Conv1d(32, 32, kernel_size=(1,), stride=(1,))\n    (25): Conv1d(32, 32, kernel_size=(1,), stride=(1,))\n    (26): Conv1d(32, 32, kernel_size=(1,), stride=(1,))\n    (27): Conv1d(32, 32, kernel_size=(1,), stride=(1,))\n    (28): Conv1d(32, 32, kernel_size=(1,), stride=(1,))\n    (29): Conv1d(32, 32, kernel_size=(1,), stride=(1,))\n  )\n  (skip_convs): ModuleList(\n    (0): Conv1d(32, 1024, kernel_size=(1,), stride=(1,))\n    (1): Conv1d(32, 1024, kernel_size=(1,), stride=(1,))\n    (2): Conv1d(32, 1024, kernel_size=(1,), stride=(1,))\n    (3): Conv1d(32, 1024, kernel_size=(1,), stride=(1,))\n    (4): Conv1d(32, 1024, kernel_size=(1,), stride=(1,))\n    (5): Conv1d(32, 1024, kernel_size=(1,), stride=(1,))\n    (6): Conv1d(32, 1024, kernel_size=(1,), stride=(1,))\n    (7): Conv1d(32, 1024, kernel_size=(1,), stride=(1,))\n    (8): Conv1d(32, 1024, kernel_size=(1,), stride=(1,))\n    (9): Conv1d(32, 1024, kernel_size=(1,), stride=(1,))\n    (10): Conv1d(32, 1024, kernel_size=(1,), stride=(1,))\n    (11): Conv1d(32, 1024, kernel_size=(1,), stride=(1,))\n    (12): Conv1d(32, 1024, kernel_size=(1,), stride=(1,))\n    (13): Conv1d(32, 1024, kernel_size=(1,), stride=(1,))\n    (14): Conv1d(32, 1024, kernel_size=(1,), stride=(1,))\n    (15): Conv1d(32, 1024, kernel_size=(1,), stride=(1,))\n    (16): Conv1d(32, 1024, kernel_size=(1,), stride=(1,))\n    (17): Conv1d(32, 1024, kernel_size=(1,), stride=(1,))\n    (18): Conv1d(32, 1024, kernel_size=(1,), stride=(1,))\n    (19): Conv1d(32, 1024, kernel_size=(1,), stride=(1,))\n    (20): Conv1d(32, 1024, kernel_size=(1,), stride=(1,))\n    (21): Conv1d(32, 1024, kernel_size=(1,), stride=(1,))\n    (22): Conv1d(32, 1024, kernel_size=(1,), stride=(1,))\n    (23): Conv1d(32, 1024, kernel_size=(1,), stride=(1,))\n    (24): Conv1d(32, 1024, kernel_size=(1,), stride=(1,))\n    (25): Conv1d(32, 1024, kernel_size=(1,), stride=(1,))\n    (26): Conv1d(32, 1024, kernel_size=(1,), stride=(1,))\n    (27): Conv1d(32, 1024, kernel_size=(1,), stride=(1,))\n    (28): Conv1d(32, 1024, kernel_size=(1,), stride=(1,))\n    (29): Conv1d(32, 1024, kernel_size=(1,), stride=(1,))\n  )\n  (start_conv): Conv1d(256, 32, kernel_size=(1,), stride=(1,))\n  (end_conv_1): Conv1d(1024, 512, kernel_size=(1,), stride=(1,))\n  (end_conv_2): Conv1d(512, 256, kernel_size=(1,), stride=(1,))\n)\nreceptive field:  3070\nparameter count:  1834592\n"
     ]
    }
   ],
   "source": [
    "model = WaveNetModel(layers=10,\n",
    "                     blocks=3,\n",
    "                     dilation_channels=32,\n",
    "                     residual_channels=32,\n",
    "                     skip_channels=1024,\n",
    "                     end_channels=512, \n",
    "                     output_length=16,\n",
    "                     dtype=dtype, \n",
    "                     bias=True)\n",
    "model = model.cuda()\n",
    "# model = load_latest_model_from('snapshots', use_cuda=use_cuda)\n",
    "\n",
    "print('model: ', model)\n",
    "print('receptive field: ', model.receptive_field)\n",
    "print('parameter count: ', model.parameter_count())"
   ]
  },
  {
   "cell_type": "markdown",
   "metadata": {},
   "source": [
    "## Data Set\n",
    "To create the data set, you have to specify a path to a data set file. If this file already exists it will be used, if not it will be generated. If you want to generate the data set file (a ``.npz`` file), you have to specify the directory (``file_location``) in which all the audio files you want to use are located. The attribute ``target_length`` specifies the number of successive samples are used as a target and corresponds to the output length of the model. The ``item_length`` defines the number of samples in each item of the dataset and should always be ``model.receptive_field + model.output_length - 1``.\n",
    "\n",
    "```\n",
    "          |----receptive_field----|\n",
    "                                |--output_length--|\n",
    "example:  | | | | | | | | | | | | | | | | | | | | |\n",
    "target:                           | | | | | | | | | |  \n",
    "```\n",
    "To create a test set, you should define a ``test_stride``. Then each ``test_stride``th item will be assigned to the test set."
   ]
  },
  {
   "cell_type": "code",
   "execution_count": 4,
   "metadata": {
    "collapsed": false,
    "tags": []
   },
   "outputs": [
    {
     "output_type": "stream",
     "name": "stdout",
     "text": [
      "one hot input\nthe dataset has 18558323 items\n"
     ]
    }
   ],
   "source": [
    "data = WavenetDataset(dataset_file='train_samples/hindi_mono_male/dataset.npz',\n",
    "                      item_length=model.receptive_field + model.output_length - 1,\n",
    "                      target_length=model.output_length,\n",
    "                      file_location='train_samples/hindi_mono_male/wav',\n",
    "                      test_stride=500)\n",
    "print('the dataset has ' + str(len(data)) + ' items')"
   ]
  },
  {
   "cell_type": "markdown",
   "metadata": {},
   "source": [
    "## Training and Logging\n",
    "This implementation supports logging with TensorBoard (you need to have TensorFlow installed). You can even generate audio samples from the current snapshot of the model during training. This will happen in a background thread on the cpu, so it will not interfere with the actual training but will be rather slow. If you don't have TensorFlow, you can use the standard logger that will print out to the console.\n",
    "The trainer uses Adam as default optimizer."
   ]
  },
  {
   "cell_type": "code",
   "execution_count": 5,
   "metadata": {
    "collapsed": true
   },
   "outputs": [],
   "source": [
    "def generate_and_log_samples(step):\n",
    "    sample_length=32000\n",
    "    gen_model = load_latest_model_from('snapshots', use_cuda=False)\n",
    "    print(\"start generating...\")\n",
    "    samples = generate_audio(gen_model,\n",
    "                             length=sample_length,\n",
    "                             temperatures=[0.5])\n",
    "    tf_samples = tf.convert_to_tensor(samples, dtype=tf.float32)\n",
    "    logger.audio_summary('temperature_0.5', tf_samples, step, sr=16000)\n",
    "\n",
    "    samples = generate_audio(gen_model,\n",
    "                             length=sample_length,\n",
    "                             temperatures=[1.])\n",
    "    tf_samples = tf.convert_to_tensor(samples, dtype=tf.float32)\n",
    "    logger.audio_summary('temperature_1.0', tf_samples, step, sr=16000)\n",
    "    print(\"audio clips generated\")\n",
    "\n",
    "\n",
    "# logger = TensorboardLogger(log_interval=200,\n",
    "#                            validation_interval=400,\n",
    "#                            generate_interval=1000,\n",
    "#                            generate_function=generate_and_log_samples,\n",
    "#                            log_dir=\"logs/chaconne_model\")\n",
    "\n",
    "logger = Logger(log_interval=200,\n",
    "                validation_interval=400,\n",
    "                generate_interval=1000)"
   ]
  },
  {
   "cell_type": "code",
   "execution_count": 6,
   "metadata": {
    "collapsed": false
   },
   "outputs": [
    {
     "output_type": "stream",
     "name": "stdout",
     "text": [
      "start training...\n",
      "epoch 0\n",
      "/home/psk1103/.local/lib/python3.8/site-packages/torch/nn/functional.py:1628: UserWarning: nn.functional.tanh is deprecated. Use torch.tanh instead.\n",
      "  warnings.warn(\"nn.functional.tanh is deprecated. Use torch.tanh instead.\")\n",
      "/home/psk1103/.local/lib/python3.8/site-packages/torch/nn/functional.py:1639: UserWarning: nn.functional.sigmoid is deprecated. Use torch.sigmoid instead.\n",
      "  warnings.warn(\"nn.functional.sigmoid is deprecated. Use torch.sigmoid instead.\")\n",
      "one training step does take approximately 0.8252660942077636 seconds)\n",
      "loss at step 200: 4.52733048081398\n",
      "loss at step 400: 3.730058238506317\n"
     ]
    },
    {
     "output_type": "error",
     "ename": "IndexError",
     "evalue": "invalid index of a 0-dim tensor. Use `tensor.item()` in Python or `tensor.item<T>()` in C++ to convert a 0-dim tensor to a number",
     "traceback": [
      "\u001b[0;31m---------------------------------------------------------------------------\u001b[0m",
      "\u001b[0;31mIndexError\u001b[0m                                Traceback (most recent call last)",
      "\u001b[0;32m<ipython-input-6-dc417f4b4135>\u001b[0m in \u001b[0;36m<module>\u001b[0;34m\u001b[0m\n\u001b[1;32m     10\u001b[0m \u001b[0;34m\u001b[0m\u001b[0m\n\u001b[1;32m     11\u001b[0m \u001b[0mprint\u001b[0m\u001b[0;34m(\u001b[0m\u001b[0;34m'start training...'\u001b[0m\u001b[0;34m)\u001b[0m\u001b[0;34m\u001b[0m\u001b[0;34m\u001b[0m\u001b[0m\n\u001b[0;32m---> 12\u001b[0;31m trainer.train(batch_size=16,\n\u001b[0m\u001b[1;32m     13\u001b[0m               epochs=10)\n",
      "\u001b[0;32m~/Git/pytorch-wavenet/wavenet_training.py\u001b[0m in \u001b[0;36mtrain\u001b[0;34m(self, batch_size, epochs, continue_training_at_step)\u001b[0m\n\u001b[1;32m     88\u001b[0m                     \u001b[0mtorch\u001b[0m\u001b[0;34m.\u001b[0m\u001b[0msave\u001b[0m\u001b[0;34m(\u001b[0m\u001b[0mself\u001b[0m\u001b[0;34m.\u001b[0m\u001b[0mmodel\u001b[0m\u001b[0;34m,\u001b[0m \u001b[0mself\u001b[0m\u001b[0;34m.\u001b[0m\u001b[0msnapshot_path\u001b[0m \u001b[0;34m+\u001b[0m \u001b[0;34m'/'\u001b[0m \u001b[0;34m+\u001b[0m \u001b[0mself\u001b[0m\u001b[0;34m.\u001b[0m\u001b[0msnapshot_name\u001b[0m \u001b[0;34m+\u001b[0m \u001b[0;34m'_'\u001b[0m \u001b[0;34m+\u001b[0m \u001b[0mtime_string\u001b[0m\u001b[0;34m)\u001b[0m\u001b[0;34m\u001b[0m\u001b[0;34m\u001b[0m\u001b[0m\n\u001b[1;32m     89\u001b[0m \u001b[0;34m\u001b[0m\u001b[0m\n\u001b[0;32m---> 90\u001b[0;31m                 \u001b[0mself\u001b[0m\u001b[0;34m.\u001b[0m\u001b[0mlogger\u001b[0m\u001b[0;34m.\u001b[0m\u001b[0mlog\u001b[0m\u001b[0;34m(\u001b[0m\u001b[0mstep\u001b[0m\u001b[0;34m,\u001b[0m \u001b[0mloss\u001b[0m\u001b[0;34m)\u001b[0m\u001b[0;34m\u001b[0m\u001b[0;34m\u001b[0m\u001b[0m\n\u001b[0m\u001b[1;32m     91\u001b[0m \u001b[0;34m\u001b[0m\u001b[0m\n\u001b[1;32m     92\u001b[0m     \u001b[0;32mdef\u001b[0m \u001b[0mvalidate\u001b[0m\u001b[0;34m(\u001b[0m\u001b[0mself\u001b[0m\u001b[0;34m)\u001b[0m\u001b[0;34m:\u001b[0m\u001b[0;34m\u001b[0m\u001b[0;34m\u001b[0m\u001b[0m\n",
      "\u001b[0;32m~/Git/pytorch-wavenet/model_logging.py\u001b[0m in \u001b[0;36mlog\u001b[0;34m(self, current_step, current_loss)\u001b[0m\n\u001b[1;32m     33\u001b[0m             \u001b[0mself\u001b[0m\u001b[0;34m.\u001b[0m\u001b[0maccumulated_loss\u001b[0m \u001b[0;34m=\u001b[0m \u001b[0;36m0\u001b[0m\u001b[0;34m\u001b[0m\u001b[0;34m\u001b[0m\u001b[0m\n\u001b[1;32m     34\u001b[0m         \u001b[0;32mif\u001b[0m \u001b[0mcurrent_step\u001b[0m \u001b[0;34m%\u001b[0m \u001b[0mself\u001b[0m\u001b[0;34m.\u001b[0m\u001b[0mvalidation_interval\u001b[0m \u001b[0;34m==\u001b[0m \u001b[0;36m0\u001b[0m\u001b[0;34m:\u001b[0m\u001b[0;34m\u001b[0m\u001b[0;34m\u001b[0m\u001b[0m\n\u001b[0;32m---> 35\u001b[0;31m             \u001b[0mself\u001b[0m\u001b[0;34m.\u001b[0m\u001b[0mvalidate\u001b[0m\u001b[0;34m(\u001b[0m\u001b[0mcurrent_step\u001b[0m\u001b[0;34m)\u001b[0m\u001b[0;34m\u001b[0m\u001b[0;34m\u001b[0m\u001b[0m\n\u001b[0m\u001b[1;32m     36\u001b[0m         \u001b[0;32mif\u001b[0m \u001b[0mcurrent_step\u001b[0m \u001b[0;34m%\u001b[0m \u001b[0mself\u001b[0m\u001b[0;34m.\u001b[0m\u001b[0mgenerate_interval\u001b[0m \u001b[0;34m==\u001b[0m \u001b[0;36m0\u001b[0m\u001b[0;34m:\u001b[0m\u001b[0;34m\u001b[0m\u001b[0;34m\u001b[0m\u001b[0m\n\u001b[1;32m     37\u001b[0m             \u001b[0mself\u001b[0m\u001b[0;34m.\u001b[0m\u001b[0mgenerate\u001b[0m\u001b[0;34m(\u001b[0m\u001b[0mcurrent_step\u001b[0m\u001b[0;34m)\u001b[0m\u001b[0;34m\u001b[0m\u001b[0;34m\u001b[0m\u001b[0m\n",
      "\u001b[0;32m~/Git/pytorch-wavenet/model_logging.py\u001b[0m in \u001b[0;36mvalidate\u001b[0;34m(self, current_step)\u001b[0m\n\u001b[1;32m     42\u001b[0m \u001b[0;34m\u001b[0m\u001b[0m\n\u001b[1;32m     43\u001b[0m     \u001b[0;32mdef\u001b[0m \u001b[0mvalidate\u001b[0m\u001b[0;34m(\u001b[0m\u001b[0mself\u001b[0m\u001b[0;34m,\u001b[0m \u001b[0mcurrent_step\u001b[0m\u001b[0;34m)\u001b[0m\u001b[0;34m:\u001b[0m\u001b[0;34m\u001b[0m\u001b[0;34m\u001b[0m\u001b[0m\n\u001b[0;32m---> 44\u001b[0;31m         \u001b[0mavg_loss\u001b[0m\u001b[0;34m,\u001b[0m \u001b[0mavg_accuracy\u001b[0m \u001b[0;34m=\u001b[0m \u001b[0mself\u001b[0m\u001b[0;34m.\u001b[0m\u001b[0mtrainer\u001b[0m\u001b[0;34m.\u001b[0m\u001b[0mvalidate\u001b[0m\u001b[0;34m(\u001b[0m\u001b[0;34m)\u001b[0m\u001b[0;34m\u001b[0m\u001b[0;34m\u001b[0m\u001b[0m\n\u001b[0m\u001b[1;32m     45\u001b[0m         \u001b[0mprint\u001b[0m\u001b[0;34m(\u001b[0m\u001b[0;34m\"validation loss: \"\u001b[0m \u001b[0;34m+\u001b[0m \u001b[0mstr\u001b[0m\u001b[0;34m(\u001b[0m\u001b[0mavg_loss\u001b[0m\u001b[0;34m)\u001b[0m\u001b[0;34m)\u001b[0m\u001b[0;34m\u001b[0m\u001b[0;34m\u001b[0m\u001b[0m\n\u001b[1;32m     46\u001b[0m         \u001b[0mprint\u001b[0m\u001b[0;34m(\u001b[0m\u001b[0;34m\"validation accuracy: \"\u001b[0m \u001b[0;34m+\u001b[0m \u001b[0mstr\u001b[0m\u001b[0;34m(\u001b[0m\u001b[0mavg_accuracy\u001b[0m \u001b[0;34m*\u001b[0m \u001b[0;36m100\u001b[0m\u001b[0;34m)\u001b[0m \u001b[0;34m+\u001b[0m \u001b[0;34m\"%\"\u001b[0m\u001b[0;34m)\u001b[0m\u001b[0;34m\u001b[0m\u001b[0;34m\u001b[0m\u001b[0m\n",
      "\u001b[0;32m~/Git/pytorch-wavenet/wavenet_training.py\u001b[0m in \u001b[0;36mvalidate\u001b[0;34m(self)\u001b[0m\n\u001b[1;32m    101\u001b[0m             \u001b[0moutput\u001b[0m \u001b[0;34m=\u001b[0m \u001b[0mself\u001b[0m\u001b[0;34m.\u001b[0m\u001b[0mmodel\u001b[0m\u001b[0;34m(\u001b[0m\u001b[0mx\u001b[0m\u001b[0;34m)\u001b[0m\u001b[0;34m\u001b[0m\u001b[0;34m\u001b[0m\u001b[0m\n\u001b[1;32m    102\u001b[0m             \u001b[0mloss\u001b[0m \u001b[0;34m=\u001b[0m \u001b[0mF\u001b[0m\u001b[0;34m.\u001b[0m\u001b[0mcross_entropy\u001b[0m\u001b[0;34m(\u001b[0m\u001b[0moutput\u001b[0m\u001b[0;34m.\u001b[0m\u001b[0msqueeze\u001b[0m\u001b[0;34m(\u001b[0m\u001b[0;34m)\u001b[0m\u001b[0;34m,\u001b[0m \u001b[0mtarget\u001b[0m\u001b[0;34m.\u001b[0m\u001b[0msqueeze\u001b[0m\u001b[0;34m(\u001b[0m\u001b[0;34m)\u001b[0m\u001b[0;34m)\u001b[0m\u001b[0;34m\u001b[0m\u001b[0;34m\u001b[0m\u001b[0m\n\u001b[0;32m--> 103\u001b[0;31m             \u001b[0mtotal_loss\u001b[0m \u001b[0;34m+=\u001b[0m \u001b[0mloss\u001b[0m\u001b[0;34m.\u001b[0m\u001b[0mdata\u001b[0m\u001b[0;34m[\u001b[0m\u001b[0;36m0\u001b[0m\u001b[0;34m]\u001b[0m\u001b[0;34m\u001b[0m\u001b[0;34m\u001b[0m\u001b[0m\n\u001b[0m\u001b[1;32m    104\u001b[0m \u001b[0;34m\u001b[0m\u001b[0m\n\u001b[1;32m    105\u001b[0m             \u001b[0mpredictions\u001b[0m \u001b[0;34m=\u001b[0m \u001b[0mtorch\u001b[0m\u001b[0;34m.\u001b[0m\u001b[0mmax\u001b[0m\u001b[0;34m(\u001b[0m\u001b[0moutput\u001b[0m\u001b[0;34m,\u001b[0m \u001b[0;36m1\u001b[0m\u001b[0;34m)\u001b[0m\u001b[0;34m[\u001b[0m\u001b[0;36m1\u001b[0m\u001b[0;34m]\u001b[0m\u001b[0;34m.\u001b[0m\u001b[0mview\u001b[0m\u001b[0;34m(\u001b[0m\u001b[0;34m-\u001b[0m\u001b[0;36m1\u001b[0m\u001b[0;34m)\u001b[0m\u001b[0;34m\u001b[0m\u001b[0;34m\u001b[0m\u001b[0m\n",
      "\u001b[0;31mIndexError\u001b[0m: invalid index of a 0-dim tensor. Use `tensor.item()` in Python or `tensor.item<T>()` in C++ to convert a 0-dim tensor to a number"
     ]
    }
   ],
   "source": [
    "trainer = WavenetTrainer(model=model,\n",
    "                         dataset=data,\n",
    "                         lr=0.001,\n",
    "                         snapshot_path='snapshots',\n",
    "                         snapshot_name='chaconne_model',\n",
    "                         snapshot_interval=1000,\n",
    "                         logger=logger,\n",
    "                         dtype=dtype,\n",
    "                         ltype=ltype)\n",
    "\n",
    "print('start training...')\n",
    "trainer.train(batch_size=16,\n",
    "              epochs=10)"
   ]
  },
  {
   "cell_type": "markdown",
   "metadata": {},
   "source": [
    "## Generating\n",
    "This model has the Fast Wavenet Generation Algorithm (https://arxiv.org/abs/1611.09482) implemented. This might run faster on the cpu. You can give some starting data (of at least the length of receptive field) or let the model generate from zero. In my experience, a temperature between 0.5 and 1.0 yields the best results, but this may depend on the data set."
   ]
  },
  {
   "cell_type": "code",
   "execution_count": null,
   "metadata": {
    "collapsed": false
   },
   "outputs": [],
   "source": [
    "start_data = data[250000][0] # use start data from the data set\n",
    "start_data = torch.max(start_data, 0)[1] # convert one hot vectors to integers\n",
    "\n",
    "def prog_callback(step, total_steps):\n",
    "    print(str(100 * step // total_steps) + \"% generated\")\n",
    "\n",
    "generated = model.generate_fast(num_samples=160000,\n",
    "                                 first_samples=start_data,\n",
    "                                 progress_callback=prog_callback,\n",
    "                                 progress_interval=1000,\n",
    "                                 temperature=1.0,\n",
    "                                 regularize=0.)"
   ]
  },
  {
   "cell_type": "code",
   "execution_count": null,
   "metadata": {
    "collapsed": true
   },
   "outputs": [],
   "source": [
    "import IPython.display as ipd\n",
    "\n",
    "ipd.Audio(generated, rate=16000)"
   ]
  }
 ],
 "metadata": {
  "anaconda-cloud": {},
  "kernelspec": {
   "name": "python386jvsc74a57bd031f2aee4e71d21fbe5cf8b01ff0e069b9275f58929596ceb00d14d90e3e16cd6",
   "display_name": "Python 3.8.6 64-bit"
  },
  "language_info": {
   "codemirror_mode": {
    "name": "ipython",
    "version": 3
   },
   "file_extension": ".py",
   "mimetype": "text/x-python",
   "name": "python",
   "nbconvert_exporter": "python",
   "pygments_lexer": "ipython3",
   "version": "3.8.6-final"
  },
  "metadata": {
   "interpreter": {
    "hash": "31f2aee4e71d21fbe5cf8b01ff0e069b9275f58929596ceb00d14d90e3e16cd6"
   }
  }
 },
 "nbformat": 4,
 "nbformat_minor": 1
}